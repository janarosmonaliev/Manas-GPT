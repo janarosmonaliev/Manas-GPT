{
 "cells": [
  {
   "cell_type": "markdown",
   "metadata": {},
   "source": [
    "## Epic of Manas Text PDF to TXT Conversion\n"
   ]
  },
  {
   "cell_type": "code",
   "execution_count": 34,
   "metadata": {},
   "outputs": [
    {
     "name": "stdout",
     "output_type": "stream",
     "text": [
      "Number of words: 263517\n"
     ]
    }
   ],
   "source": [
    "from PyPDF2 import PdfReader\n",
    "import re\n",
    "\n",
    "PATH = 'data/epic-of-manas.pdf'\n",
    "dest_path = 'manas_text.txt'\n",
    "start_page = 15\n",
    "end_page = 1832\n",
    "temp_end_page = 20\n",
    "footer_text = 'www.bizdin.kg'\n",
    "has_footer_text = False\n",
    "\n",
    "word_count = 0\n",
    "\n",
    "reader = PdfReader(PATH)\n",
    "number_of_pages = len(reader.pages)\n",
    "\n",
    "# This is needed to remove the annotation header\n",
    "footer_text_pattern = rf\"(\\n{re.escape(footer_text)}\\S*)\"\n",
    "\n",
    "with open(dest_path, \"w\") as file:\n",
    "    for page_num in range(start_page, end_page):   \n",
    "        page = reader.pages[page_num]\n",
    "        page_text = page.extract_text()\n",
    "        if page_text:\n",
    "            if (has_footer_text): # needed to remove newline on N+1 page of annotation header\n",
    "                page_text = re.sub(r'\\n', '', page_text, count=1)\n",
    "            has_footer_text = footer_text in page_text\n",
    "            page_text = re.sub(footer_text_pattern, \"\\n\", page_text, flags=re.DOTALL) # remove annotation header\n",
    "\n",
    "            # just for counting number of words\n",
    "            words = re.findall(r'\\b\\w+\\b', page_text)\n",
    "            word_count += len(words)\n",
    "            file.write(page_text)\n",
    "\n",
    "print(\"Number of words: %i\" % (word_count))\n"
   ]
  }
 ],
 "metadata": {
  "kernelspec": {
   "display_name": "base",
   "language": "python",
   "name": "python3"
  },
  "language_info": {
   "codemirror_mode": {
    "name": "ipython",
    "version": 3
   },
   "file_extension": ".py",
   "mimetype": "text/x-python",
   "name": "python",
   "nbconvert_exporter": "python",
   "pygments_lexer": "ipython3",
   "version": "3.11.7"
  }
 },
 "nbformat": 4,
 "nbformat_minor": 2
}
